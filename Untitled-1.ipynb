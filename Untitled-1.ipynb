{
 "cells": [
  {
   "cell_type": "code",
   "execution_count": null,
   "metadata": {},
   "outputs": [],
   "source": [
    "class RestaurantApp:\n",
    "    def __init__(self) -> None:\n",
    "        self.__current_location =  None\n",
    "#remove location_AS_STRING\n",
    "    def start(self, application_mode ):   \n",
    "        self.__current_location = self.get_current_location()\n",
    "        try:\n",
    "        #per ta ndare aplikacionin ne module perdorim CASE.\n",
    "            match application_mode:\n",
    "                case \"ORDER\" :\n",
    "                    self.run_order_process()\n",
    "                case \"RESERVATION\":\n",
    "                    self.run_table_reservation_process()    \n",
    "                case _: \n",
    "                    raise Exception(\"No valid alication modeis Selected!\")   \n",
    "        except InvalidOrderItemSize:\n",
    "            print(\"The order Item size culdnt be determinded and the aplication cant't proced further\")\n",
    "    def get_current_location():\n",
    "        print(\"Please select location (Type Number) : \")\n",
    "    def run_order_process(self):\n",
    "        restaurant = Restaurant(\"Sky Tower\", \"Rruga e Durrsit\")\n",
    "        client = Client(\"Jona\", \"0693284950\")\n",
    "        menu = Menu()\n",
    "        menuprinter = MenuPrinter()\n",
    "        menuprinter.print_menu(menu)\n",
    "        order_manager = OrderManager()\n",
    "        order = order_manager.create_order(menu)\n",
    "        order_manager.get_orders().append(order)\n",
    "        self.__calculate_and_print_order_details( restaurant, client , order )\n",
    "    def __calculate_and_print_order_details(self, restaurant, client , order   ):\n",
    "        order_calculator = self.get_order_calculator()\n",
    "        order_amount = order_calculator.calculate_order_amount(order)\n",
    "        order_printer = OrderPrinter()   \n",
    "        order_printer.print_order_info( restaurant, client, order, order_amount, order_calculator._get_vat_rate())\n",
    "    def get_order_calculator(self):\n",
    "        return  OrderCalculatorFactory.get_order_calculator_by_location(self.__current_location)\n",
    "    def run_table_reservation_process(self):\n",
    "        print(\"TABLE RESERVATION COMPLITED SUCCESSFULLY\")\n",
    "\n"
   ]
  }
 ],
 "metadata": {
  "language_info": {
   "name": "python"
  }
 },
 "nbformat": 4,
 "nbformat_minor": 2
}
